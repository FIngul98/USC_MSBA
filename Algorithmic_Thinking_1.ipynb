{
  "cells": [
    {
      "cell_type": "markdown",
      "id": "b04c4c36",
      "metadata": {
        "toc": true,
        "id": "b04c4c36"
      },
      "source": [
        "<h1>Table of Contents<span class=\"tocSkip\"></span></h1>\n",
        "<div class=\"toc\"><ul class=\"toc-item\"><li><span><a href=\"#Instructions\" data-toc-modified-id=\"Instructions-1\"><span class=\"toc-item-num\">1&nbsp;&nbsp;</span>Instructions</a></span></li><li><span><a href=\"#Before-You-Begin\" data-toc-modified-id=\"Before-You-Begin-2\"><span class=\"toc-item-num\">2&nbsp;&nbsp;</span>Before You Begin</a></span></li><li><span><a href=\"#Questions\" data-toc-modified-id=\"Questions-3\"><span class=\"toc-item-num\">3&nbsp;&nbsp;</span>Questions</a></span><ul class=\"toc-item\"><li><span><a href=\"#Writing-Functions\" data-toc-modified-id=\"Writing-Functions-3.1\"><span class=\"toc-item-num\">3.1&nbsp;&nbsp;</span>Writing Functions</a></span><ul class=\"toc-item\"><li><span><a href=\"#Payroll-Calculations\" data-toc-modified-id=\"Payroll-Calculations-3.1.1\"><span class=\"toc-item-num\">3.1.1&nbsp;&nbsp;</span>Payroll Calculations</a></span></li><li><span><a href=\"#Demand-Estimation\" data-toc-modified-id=\"Demand-Estimation-3.1.2\"><span class=\"toc-item-num\">3.1.2&nbsp;&nbsp;</span>Demand Estimation</a></span></li><li><span><a href=\"#Time-to-Sellout-Estimation\" data-toc-modified-id=\"Time-to-Sellout-Estimation-3.1.3\"><span class=\"toc-item-num\">3.1.3&nbsp;&nbsp;</span>Time-to-Sellout Estimation</a></span></li><li><span><a href=\"#Investment-Accounting\" data-toc-modified-id=\"Investment-Accounting-3.1.4\"><span class=\"toc-item-num\">3.1.4&nbsp;&nbsp;</span>Investment Accounting</a></span></li><li><span><a href=\"#Marketing-via-Referrals\" data-toc-modified-id=\"Marketing-via-Referrals-3.1.5\"><span class=\"toc-item-num\">3.1.5&nbsp;&nbsp;</span>Marketing via Referrals</a></span></li></ul></li><li><span><a href=\"#In-Class-Exercises\" data-toc-modified-id=\"In-Class-Exercises-3.2\"><span class=\"toc-item-num\">3.2&nbsp;&nbsp;</span>In-Class Exercises</a></span><ul class=\"toc-item\"><li><span><a href=\"#Optimal-Pricing\" data-toc-modified-id=\"Optimal-Pricing-3.2.1\"><span class=\"toc-item-num\">3.2.1&nbsp;&nbsp;</span>Optimal Pricing</a></span></li><li><span><a href=\"#Optimal-Stocking-Level\" data-toc-modified-id=\"Optimal-Stocking-Level-3.2.2\"><span class=\"toc-item-num\">3.2.2&nbsp;&nbsp;</span>Optimal Stocking Level</a></span></li></ul></li></ul></li></ul></div>"
      ]
    },
    {
      "cell_type": "markdown",
      "id": "74b5cfbc",
      "metadata": {
        "id": "74b5cfbc"
      },
      "source": [
        "<h1>Instructions</h1>\n",
        "<br>\n",
        "<font size=\"+1\">\n",
        "    <ul>\n",
        "        <li><b>Recommended Steps</b></li>\n",
        "        <br>\n",
        "        <ol>\n",
        "            <li>Read the prompt and summarize the task in your own words, using as few words as possible for ease of comprehension.</li>\n",
        "            <br>\n",
        "            <li>Pretend to be the computer program that you are trying to create. Examine the smaple inputs and manually produce the appropriate results. Afterward, verify the correctness of your logic by comparing with the given sample outputs.</li>\n",
        "            <br>\n",
        "            <li>On a scrap piece of paper, write step-by-step instructions so that someone else can pretend to be the computer program and produce the appropriate results for any possible inputs. These instructions should target a human audience who does not know the problem description and only has your instructions as a guide. These instructions should serve as the roadmap for your code.</li>\n",
        "            <br>\n",
        "            <li>On another scrap piece of paper, write fragments of Python code to implement each step in your roadmap, focusing especially on the trickiest parts of the logic.</li>\n",
        "            <br>\n",
        "            <li>With your roadmap and code fragments from the previous steps, type Python code into a new Jupyter notebook cel to solve the given problem. You should type incrementally and run the code whenever you add a small chunk. This allows you to correct errors as they occur. It may also be helpful to print intermediate results to verify that the code is carrying out the logic as desired.</li>\n",
        "            <br>\n",
        "            <li>Run your code with some sample inputs and verify that the outputs are exactly the same as the sample outputs.</li>\n",
        "            <br>\n",
        "            <li>Once all of your problems are finished, it is useful to click <i>Kernel</i> $\\rightarrow$ <i>Restart & Run All</i> to verify that your outputs for all of your problems continue to be correct. This helps to ensure that someone else will be able to replicate your results when running your notebook.</li>\n",
        "            <br>\n",
        "            <li style=\"color:red\">Submit the <i>.ipynb</i> file on TurnItIn on Blackboard by the deadline. Be sure to refresh the page and double check your submission actually went through. <b>Note that you only need to submit your solutions, not all of the other recommended steps.</b> The recommended steps are meant to serve as a guide for your thinking process.</li>\n",
        "            <br>\n",
        "        </ol>\n",
        "        <br>\n",
        "        <hr style=\"border: 10px solid black\">\n",
        "        <br>\n",
        "        <li><b>Grading</b></li>\n",
        "        <br>\n",
        "        <li>There are four possible scores you can get from submitting this assignment on time (submitting a blank file or one without any apparent effort does not count). Note that the rubric is designed to incentivize you to go for $100%$ mastery of the material, as the little details matter in programming.</li>\n",
        "        <br>\n",
        "        <ul>\n",
        "            <li>Grade of $5$ out of $5$ - perfect submission with no significant errors</li>\n",
        "            <br>\n",
        "            <li>Grade of $4$ out of $5$ - near perfect submission with one or more significant errors</li>\n",
        "            <br>\n",
        "            <li>Grade of $2$ out of $5$ - apparent effort but far from perfect</li>\n",
        "            <br>\n",
        "            <li>Grade of $0$ out of $5$ - no submission or no apparent effort</li>\n",
        "            <br>\n",
        "        </ul>\n",
        "    </ul>\n",
        "</font>"
      ]
    },
    {
      "cell_type": "markdown",
      "id": "0fb4a4c0",
      "metadata": {
        "id": "0fb4a4c0"
      },
      "source": [
        "<hr style=\"border: 20px solid black\">"
      ]
    },
    {
      "cell_type": "markdown",
      "id": "4a57d36f",
      "metadata": {
        "id": "4a57d36f"
      },
      "source": [
        "<h1>Before You Begin</h1>\n",
        "<br>\n",
        "<font size=\"+1\">\n",
        "    <ul>\n",
        "        <li>Please read: <b>01_Intro_to_Algorithmic_Thinking_with_Toy_Examples.ipynb</b></li>\n",
        "        <br>\n",
        "    </ul>\n",
        "</font>"
      ]
    },
    {
      "cell_type": "markdown",
      "id": "53e2370d",
      "metadata": {
        "id": "53e2370d"
      },
      "source": [
        "<hr style=\"border: 20px solid black\">"
      ]
    },
    {
      "cell_type": "markdown",
      "id": "fc167ed6",
      "metadata": {
        "id": "fc167ed6"
      },
      "source": [
        "<h1>Questions</h1>"
      ]
    },
    {
      "cell_type": "markdown",
      "id": "9b5bf76c",
      "metadata": {
        "id": "9b5bf76c"
      },
      "source": [
        "<h2>Writing Functions</h2>"
      ]
    },
    {
      "cell_type": "markdown",
      "id": "0eaa7a8d",
      "metadata": {
        "id": "0eaa7a8d"
      },
      "source": [
        "<h3>Payroll Calculations</h3>\n",
        "<br>\n",
        "<font size=\"+1\">\n",
        "    <ul>\n",
        "        <li>In a particular company, the <b>part-time employees</b> receive a wage based on the number of hours logged each week.</li>\n",
        "        <br>\n",
        "        <li>Write a function called <i>part_time_payroll()</i> with two input arguments.</li>\n",
        "        <br>\n",
        "        <ul>\n",
        "            <li><b>hours</b>, which takes a list of non-negative numbers corresponding to the number of hours an employee logged in successive weeks,</li>\n",
        "            <br>\n",
        "            <li><b>rate</b>, which takes the hourly rate for the employee.</li>\n",
        "            <br>\n",
        "        </ul>\n",
        "        <li>Your function should account for the following constraints.</li>\n",
        "        <br>\n",
        "        <ul>\n",
        "            <li>A part-time employee can only be paid for at most $20$ hours in any given week.</li>\n",
        "            <br>\n",
        "            <li>If the employee logs more than $20$ hours in a week, then they will only be paid for $20$ hours.</li>\n",
        "            <br>\n",
        "        </ul>\n",
        "        <li>The function should print (not return) a statement summarizing the </li>\n",
        "        <br>\n",
        "        <ul>\n",
        "            <li>total wage,</li>\n",
        "            <br>\n",
        "            <li>and the average wage per week.</li>\n",
        "            <br>\n",
        "        </ul>\n",
        "        <li>Do some testing to make sure your code is working as intended on the following examples.</li>\n",
        "        <br>\n",
        "        <ul>\n",
        "            <li><i>part_time_payroll(hours=[5,3,2,4], rate=10)</i> $\\longrightarrow$ <i>The total earnings is $\\$140$. The average weekly earnings is $\\$35.0$ per week.</i></li>\n",
        "            <br>\n",
        "            <li><i>part_time_payroll(hours=[25,15,14,30,0], rate=12.5)</i> $\\longrightarrow$ <i>The total earnings is $\\$862.5$. The average weekly earnings is $\\$172.5$ per week.</i></li>\n",
        "            <br>\n",
        "        </ul>\n",
        "    </ul>\n",
        "<?font>"
      ]
    },
    {
      "cell_type": "code",
      "execution_count": null,
      "id": "a86ff011",
      "metadata": {
        "id": "a86ff011"
      },
      "outputs": [],
      "source": [
        "#hours, which takes a list of non-negative numbers corresponding to the number of hours an employee logged in successive weeks,\n",
        "#rate, which takes the hourly rate for the employee\n",
        "\n",
        "def part_time_payroll(hours,rate):\n",
        "\n",
        "  wage = 0\n",
        "\n",
        "  for i in range(len(hours)):\n",
        "    if hours[i] <= 20 and hours[i] >= 0:\n",
        "      wage = wage + hours[i]*rate\n",
        "    elif hours[i] > 20:\n",
        "      wage = wage + 20*rate\n",
        "    else:\n",
        "      pass\n",
        "    \n",
        "  total_wage = wage\n",
        "  average_wage_per_week = total_wage/len(hours)\n",
        "  print(f\"––> The total earnings is $ {total_wage}\")\n",
        "  print(f\"––> The average weekly earnings is $ {average_wage_per_week}\")\n",
        "\n",
        "\n",
        "\n"
      ]
    },
    {
      "cell_type": "code",
      "execution_count": null,
      "id": "544cc2a7",
      "metadata": {
        "id": "544cc2a7",
        "colab": {
          "base_uri": "https://localhost:8080/"
        },
        "outputId": "a79a5d9e-1636-444d-c13c-c20ea71751b4"
      },
      "outputs": [
        {
          "output_type": "stream",
          "name": "stdout",
          "text": [
            "––> The total earnings is $ 862.5\n",
            "––> The average weekly earnings is $ 172.5\n"
          ]
        }
      ],
      "source": [
        "part_time_payroll([25,15,14,30,0], 12.5)"
      ]
    },
    {
      "cell_type": "code",
      "execution_count": null,
      "id": "f5ef017b",
      "metadata": {
        "id": "f5ef017b"
      },
      "outputs": [],
      "source": []
    },
    {
      "cell_type": "markdown",
      "id": "ed141192",
      "metadata": {
        "id": "ed141192"
      },
      "source": [
        "<h3>Demand Estimation</h3>\n",
        "<br>\n",
        "<font size=\"+1\">\n",
        "    <ul>\n",
        "        <li>In a particular company, a new product has been released and the company needs help estimating the demand of this product for planning purposes.</li>\n",
        "        <br>\n",
        "        <li>Write a function called <i>demand_estimation()</i> with two input arguments.</li>\n",
        "        <br>\n",
        "        <ul>\n",
        "            <li><b>customer_valuations</b>, which takes a list of positive numbers corresponding to a potential customer's maximum price they're willing to pay for the product,</li>\n",
        "            <br>\n",
        "            <li><b>product_price</b>, which represents the price of the product set by the company.</li>\n",
        "            <br>\n",
        "        </ul>\n",
        "        <li>The function should return a non-negative integer that represents the potential demand for the given price, that is, the number of elements in the <i>customer_valuations</i> list that are greater than or equal to the <i>product_price</i>.</li>\n",
        "        <br>\n",
        "        <li>Do some testing to make sure your code is working as intended on the following examples.</li>\n",
        "        <br>\n",
        "        <ul>\n",
        "            <li><i>demand_estimation(customer_valuations=[3,1,9.5,10,9], product_price=9.5)</i> $\\longrightarrow$ <i>$2$</i> (which represents two customers that would be willing to pay the product price set by the company)</li>\n",
        "            <br>\n",
        "            <li><i>demand_estimation(customer_valuations=[10,53.5,33,12,15,19.5], product_price=100)</i> $\\longrightarrow$ <i>$0$</i> (which represents two customers that would be willing to pay the product price set by the company)</li>\n",
        "            <br>\n",
        "        </ul>\n",
        "    </ul>\n",
        "<?font>"
      ]
    },
    {
      "cell_type": "code",
      "execution_count": null,
      "id": "0e377ffd",
      "metadata": {
        "id": "0e377ffd"
      },
      "outputs": [],
      "source": [
        "def demand_estimation(customer_valuations, product_price):\n",
        "\n",
        "  for i in range(len(customer_valuations)):\n",
        "    if customer_valuations[i] >= product_price:\n",
        "      i+= 1\n",
        "      return i - 1\n",
        "  if i == 0:\n",
        "    print(0)"
      ]
    },
    {
      "cell_type": "code",
      "execution_count": null,
      "id": "a0ac5293",
      "metadata": {
        "id": "a0ac5293",
        "colab": {
          "base_uri": "https://localhost:8080/"
        },
        "outputId": "caaa435c-7b8c-4232-fff2-cc9667bc471b"
      },
      "outputs": [
        {
          "output_type": "execute_result",
          "data": {
            "text/plain": [
              "2"
            ]
          },
          "metadata": {},
          "execution_count": 29
        }
      ],
      "source": [
        "demand_estimation([3,1,9.5,10,9],9.5)"
      ]
    },
    {
      "cell_type": "code",
      "execution_count": null,
      "id": "e2232f08",
      "metadata": {
        "id": "e2232f08"
      },
      "outputs": [],
      "source": []
    },
    {
      "cell_type": "markdown",
      "id": "6e68da99",
      "metadata": {
        "id": "6e68da99"
      },
      "source": [
        "<h3>Time-to-Sellout Estimation</h3>\n",
        "<br>\n",
        "<font size=\"+1\">\n",
        "    <ul>\n",
        "        <li>Suppose that there are a limited number of tickets to an event and your goal is to estimate when the tickets will be sold out.</li>\n",
        "        <br>\n",
        "        <li>Write a function called <i>time_to_sell_out()</i> with two input arguments.</li>\n",
        "        <br>\n",
        "        <ul>\n",
        "            <li><b>weekly_demand_forecasts</b>, which takes a list of positive integers and represents the forecasted demand in each week,</li>\n",
        "            <br>\n",
        "            <li><b>initial_inventory</b>, a positive integer that represents the initial supply of tickets.</li>\n",
        "            <br>\n",
        "        </ul>\n",
        "        <li>The function should return the week in which tickets will sell out, with week numbering starting at $1$ and not $0$. </li>\n",
        "        <br>\n",
        "        <li>If the tickets never sell out in the given weeks, then the function should return the week after the given horizon.</li>\n",
        "        <br>\n",
        "        <ul>\n",
        "            <li>As an example, if <i>weekly_demand_forecasts=[50,80,89]</i>, which represents a forecast for demand of 50 in week 1, a forecast for demand of 80 in week 2, and a forecast for demand of 89 in week 3, then </li>\n",
        "            <br>\n",
        "            <ul>\n",
        "                <li>if initial inventory is 10, the tickets will sell out in week 1, that is, the function returns 1.</li>\n",
        "                <br>\n",
        "                <li>if initial inventory is 50, then the function should still return 1,</li>\n",
        "                <br>\n",
        "                <li>if initial inventory is 60, then the function should return 2 since supply lasts into week 2.</li>\n",
        "                <br>\n",
        "                <li>if initial inventory is 300, then the function should return 4 since supply lasts even after the three weeks are over.</li>\n",
        "                <br>\n",
        "            </ul>\n",
        "        </ul>\n",
        "        <li style=\"color:red\">There are many different ways solve this problem.</li>\n",
        "        <br>\n",
        "    </ul>\n",
        "<?font>"
      ]
    },
    {
      "cell_type": "code",
      "execution_count": null,
      "id": "fd84557a",
      "metadata": {
        "id": "fd84557a"
      },
      "outputs": [],
      "source": [
        "def time_to_sell_out(weekly_demand_forecasts, initial_inventory):\n",
        "\n",
        "  f = 0\n",
        "\n",
        "  for i in range(len(weekly_demand_forecasts)):\n",
        "\n",
        "    if initial_inventory - weekly_demand_forecasts[i] > 0:\n",
        "      f+=1\n",
        "      initial_inventory = initial_inventory - weekly_demand_forecasts[i]\n",
        "  \n",
        "  if initial_inventory > 0:\n",
        "     f = f +1\n",
        "     return f\n",
        "  elif initial_inventory == 0:\n",
        "     return f\n",
        "  else: \n",
        "      return len(weekly_demand_forecasts) + 1\n",
        "\n",
        "      \n"
      ]
    },
    {
      "cell_type": "code",
      "execution_count": null,
      "id": "ab15e7d5",
      "metadata": {
        "id": "ab15e7d5",
        "colab": {
          "base_uri": "https://localhost:8080/"
        },
        "outputId": "ab4b62aa-17e9-41dc-c9d8-dc443dd91b6f"
      },
      "outputs": [
        {
          "output_type": "execute_result",
          "data": {
            "text/plain": [
              "4"
            ]
          },
          "metadata": {},
          "execution_count": 34
        }
      ],
      "source": [
        "time_to_sell_out([50,80,89], 300)"
      ]
    },
    {
      "cell_type": "markdown",
      "id": "8fb48f2d",
      "metadata": {
        "id": "8fb48f2d"
      },
      "source": [
        "<h3>Investment Accounting</h3>\n",
        "<br>\n",
        "<font size=\"+1\">\n",
        "    <ul>\n",
        "        <li>A particular company that trades stocks needs to keep track of their portfolio.</li>\n",
        "        <br>\n",
        "        <li>Write a function called <i>trade_accounting()</i> with two input arguments.</li>\n",
        "        <br>\n",
        "        <ul>\n",
        "            <li><b>stock_prices</b>, which takes a list of non-negative numbers corresponding to the price of a stock at the market close in successive business days,</li>\n",
        "            <br>\n",
        "            <li><b>change_in_share_holdings</b>, which is a list of positive or negative numbers corresponding to the change in the number of shares carried from one day to the next. A positive number corresponds to buying shares and a negative number corresponds to selling shares. </li>\n",
        "            <br>\n",
        "        </ul>\n",
        "        <li>Your function should account for the following constraint.</li>\n",
        "        <br>\n",
        "        <ul>\n",
        "            <li>Both lists should be of the same length.</li>\n",
        "            <br>\n",
        "        </ul>\n",
        "        <li>The function should return (not print) the following two numbers </li>\n",
        "        <br>\n",
        "        <ul>\n",
        "            <li>net change in shares, which is the sum of the numbers in the list <i>change_in_share_holdings</i>,</li>\n",
        "            <br>\n",
        "            <li>and the net change in cash from buying or selling stock, which is the net money spent or earned over the trades in the list <i>change_in_share_holdings</i>.</li>\n",
        "            <br>\n",
        "        </ul>\n",
        "        <li>For example, if <i>stock_prices=[10,12,13,8,7,15]</i> and <i>change_in_share_holdings=[3,2,-5,3,1,-5]</i>, then the following table illustrates the calculations</li>\n",
        "        <br>\n",
        "        <ul>\n",
        "            <li><table style=\"color:black\">\n",
        "    <tr>\n",
        "        <td bgcolor=\"#00ff00\"><b>stock_prices</b></td>\n",
        "        <td bgcolor=\"#00ff00\"><b>change_in_share_holdings</b></td>\n",
        "        <td bgcolor=\"#00ff00\"><b>Cashflow</b></td>\n",
        "    </tr>\n",
        "    <tr>\n",
        "        <td>10</td>\n",
        "        <td>+3</td>\n",
        "        <td>-30</td>\n",
        "    </tr>\n",
        "    <tr>\n",
        "        <td>12</td>\n",
        "        <td>+2</td>\n",
        "        <td>-24</td>\n",
        "    </tr>\n",
        "    <tr>\n",
        "        <td>13</td>\n",
        "        <td>-5</td>\n",
        "        <td>+65</td>\n",
        "    </tr>\n",
        "    <tr>\n",
        "        <td>8</td>\n",
        "        <td>+3</td>\n",
        "        <td>-24</td>\n",
        "    </tr>\n",
        "    <tr>\n",
        "        <td>7</td>\n",
        "        <td>+1</td>\n",
        "        <td>-7</td>\n",
        "    </tr>\n",
        "    <tr>\n",
        "        <td>15</td>\n",
        "        <td>-5</td>\n",
        "        <td>+75</td>\n",
        "    </tr>\n",
        "    <tr>\n",
        "        <td><b style=\"color:red\">Net</b></td>\n",
        "        <td><b style=\"color:red\">-1</b></td>\n",
        "        <td><b style=\"color:red\">+55</b></td>\n",
        "    </tr>\n",
        "</table></li>\n",
        "            <br>\n",
        "        </ul>\n",
        "        <li>Do some testing to make sure your code is working as intended on the previous example.</li>\n",
        "        <br>\n",
        "    </ul>\n",
        "<?font>"
      ]
    },
    {
      "cell_type": "code",
      "execution_count": null,
      "id": "abd1329c",
      "metadata": {
        "id": "abd1329c"
      },
      "outputs": [],
      "source": [
        "def trade_accounting(stock_prices, change_in_share_holdings):\n",
        "\n",
        "  Cashflow = []\n",
        "  Net = []\n",
        "  Net1 = []\n",
        "\n",
        "  for i in stock_prices:\n",
        "    if i < 0:\n",
        "      return \"error: a stock price should be positie\"\n",
        "\n",
        "  for i in range(len(stock_prices)):\n",
        "    Cashflow.append(stock_prices[i] * (change_in_share_holdings[i] * -1))\n",
        "\n",
        "  Net.append(sum(change_in_share_holdings))\n",
        "  Net1.append(sum(Cashflow))\n",
        "\n",
        "\n",
        "  return Net + Net1"
      ]
    },
    {
      "cell_type": "code",
      "execution_count": null,
      "id": "20887129",
      "metadata": {
        "id": "20887129",
        "colab": {
          "base_uri": "https://localhost:8080/"
        },
        "outputId": "70a2895c-a6ab-4b49-ccd3-86c9968365df"
      },
      "outputs": [
        {
          "output_type": "execute_result",
          "data": {
            "text/plain": [
              "[-1, 55]"
            ]
          },
          "metadata": {},
          "execution_count": 52
        }
      ],
      "source": [
        "trade_accounting([10,12,13,8,7,15],[3,2,-5,3,1,-5])"
      ]
    },
    {
      "cell_type": "markdown",
      "id": "2dd88ad7",
      "metadata": {
        "id": "2dd88ad7"
      },
      "source": [
        "<h3>Marketing via Referrals</h3>\n",
        "<br>\n",
        "<font size=\"+1\">\n",
        "    <ul>\n",
        "        <li>The marketing team of a start-up is trying to predict the growth of a new product about to be launched, measured by the total number of sales within a given number of months from launch.</li>\n",
        "        <br>\n",
        "        <ul>\n",
        "            <li>Assuming that each person who buys the product will refer a friend, who hasn't seen the new product before, in the next month and the month after that, but will stop referring after the subsequent two months.</li>\n",
        "            <br>\n",
        "            <li>Each referred friend will buy the product upon hearing about it, and then follow the same referral pattern.</li>\n",
        "            <br>\n",
        "            <li>Additionally, assume that each customer only buys the product once.</li>\n",
        "            <br>\n",
        "            <li>Assume there is only one person who buys the product in month zero (pre-launch month).</li>\n",
        "            <br>\n",
        "            <li>Assume the only buyers of the product are those referred, as described above.</li>\n",
        "            <br>\n",
        "            <li style=\"color:blue\"><b>This pattern is known as the <a href=\"https://en.wikipedia.org/wiki/Fibonacci_number\">Fibonacci sequence</a></b>.</li>\n",
        "            <br>\n",
        "        </ul>\n",
        "        <li>Write a function called <i>total_number_of_buyers()</i> that is used to compute the total number of buyers of the newly launched product in a given number of months. The function should have one input argument.</li>\n",
        "        <br>\n",
        "        <ul>\n",
        "            <li><b>number_of_months</b>, which takes a positive integer corresponding to the number of months over which the company wants to calculate the number of buyers.</li>\n",
        "            <br>\n",
        "        </ul>\n",
        "        <li>The function should return the total number of buyers in the first <i>number_of_months</i> since the launch of the new product.</li>\n",
        "        <br>\n",
        "        <li>For example, if <i>number_of_months=12</i>, then the following table illustrates the calculations (note the pattern of referrals follows the Fibonacci sequence)</li>\n",
        "        <br>\n",
        "        <ul>\n",
        "            <li><table style=\"color:black\">\n",
        "    <tr>\n",
        "        <td bgcolor=\"#00ff00\"><b>month</b></td>\n",
        "        <td bgcolor=\"#00ff00\"><b>number of buyers</b></td>\n",
        "    </tr>\n",
        "    <tr>\n",
        "        <td>(pre-launch) 0</td>\n",
        "        <td>1</td>\n",
        "    </tr>\n",
        "    <tr>\n",
        "        <td>1</td>\n",
        "        <td>1</td>\n",
        "    </tr>\n",
        "    <tr>\n",
        "        <td>2</td>\n",
        "        <td>1+1 = 2</td>\n",
        "    </tr>\n",
        "    <tr>\n",
        "        <td>3</td>\n",
        "        <td>1+1+1 = 3</td>\n",
        "    </tr>\n",
        "    <tr>\n",
        "        <td>4</td>\n",
        "        <td>1+1+1+1+1 = 5</td>\n",
        "    </tr>\n",
        "    <tr>\n",
        "        <td>5</td>\n",
        "        <td>1+1+1+1+1+1+1+1 = 8</td>\n",
        "    </tr>\n",
        "    <tr>\n",
        "        <td>6</td>\n",
        "        <td>8+5 = 13</td>\n",
        "    </tr>\n",
        "    <tr>\n",
        "        <td>7</td>\n",
        "        <td>13+8 = 21</td>\n",
        "    </tr>\n",
        "    <tr>\n",
        "        <td>8</td>\n",
        "        <td>21+13 = 34</td>\n",
        "    </tr>\n",
        "    <tr>\n",
        "        <td>9</td>\n",
        "        <td>34+21 = 55</td>\n",
        "    </tr>\n",
        "    <tr>\n",
        "        <td>10</td>\n",
        "        <td>55+34 = 89</td>\n",
        "    </tr>\n",
        "    <tr>\n",
        "        <td>11</td>\n",
        "        <td>89+55 = 144</td>\n",
        "    </tr>\n",
        "    <tr>\n",
        "        <td>12</td>\n",
        "        <td>144+89 = 233</td>\n",
        "    </tr>\n",
        "    <tr>\n",
        "        <td><b style=\"color:red\">Net</b></td>\n",
        "        <td><b style=\"color:red\">609</b></td>\n",
        "    </tr>\n",
        "</table></li>\n",
        "            <br>\n",
        "        </ul>\n",
        "        <li>Do some testing to make sure your code is working as intended on the previous example.</li>\n",
        "        <br>\n",
        "    </ul>\n",
        "<?font>"
      ]
    },
    {
      "cell_type": "code",
      "execution_count": null,
      "id": "55d2469b",
      "metadata": {
        "id": "55d2469b"
      },
      "outputs": [],
      "source": [
        "\n",
        "def total_number_of_buyers(number_of_months):\n",
        "\n",
        "  fib = [0,1]\n",
        "  Net = 1\n",
        "\n",
        "  for i in range(0,number_of_months):\n",
        "    \n",
        "    sum = (fib[i] + fib[-1])\n",
        "    fib.append(sum)\n",
        "    Net += sum\n",
        "\n",
        "  return Net\n",
        "\n",
        "\n",
        "\n",
        "\n",
        "\n",
        "\n",
        "\n"
      ]
    },
    {
      "cell_type": "code",
      "execution_count": null,
      "id": "6c4d8046",
      "metadata": {
        "id": "6c4d8046",
        "colab": {
          "base_uri": "https://localhost:8080/"
        },
        "outputId": "df686e0a-5a49-4884-f832-b13a2402ae8b"
      },
      "outputs": [
        {
          "output_type": "execute_result",
          "data": {
            "text/plain": [
              "609"
            ]
          },
          "metadata": {},
          "execution_count": 81
        }
      ],
      "source": [
        "total_number_of_buyers(12)\n"
      ]
    },
    {
      "cell_type": "markdown",
      "id": "7b087528",
      "metadata": {
        "id": "7b087528"
      },
      "source": [
        "<h2>In-Class Exercises</h2>\n",
        "<br>\n",
        "<font size=\"+1\">\n",
        "    <ul>\n",
        "        <li>Complete your own solution to the last two problems from the notebook <b>01_Intro_to_Algorithmic_Thinking_....ipynb</b>.</li>\n",
        "        <br>\n",
        "        <li>You may use the solution to help if you are stuck, but you should write your own functions in your own syntax.</li>\n",
        "        <br>\n",
        "        <li>Try your best to not look at the solutions until you are finished.</li>\n",
        "        <br>\n",
        "    </ul>\n",
        "</font>"
      ]
    },
    {
      "cell_type": "markdown",
      "id": "610dd688",
      "metadata": {
        "id": "610dd688"
      },
      "source": [
        "<h3>Optimal Pricing</h3>\n",
        "<br>\n",
        "<font size=\"+1\">\n",
        "    <ul>\n",
        "        <li><b>Assume:</b></li>\n",
        "        <br>\n",
        "        <ul>\n",
        "            <li>For a given price, the demand is equal to the number of customers with a willingness to pay greater than or equal to the price.</li>\n",
        "            <br>\n",
        "        </ul>\n",
        "        <li>Write a function called <i>optimal_price()</i> with two input arguments.</li>\n",
        "        <br>\n",
        "        <ul>\n",
        "            <li><b>prices</b>, which represents a list of proposed prices,</li>\n",
        "            <br>\n",
        "            <li><b>willingness_to_pay</b>, which is a list of numbers representing a particular customer's willingness to pay for a product.</li>\n",
        "            <br>\n",
        "        </ul>\n",
        "        <li>The function should iterate through the list of prices, and compute the estimated <b>revenue</b> for each price (revenue equals price times demand).</li>\n",
        "        <br>\n",
        "        <li>The function should return the best price found, which is measured by the price corresponding to the largest revenue, and a dictionary mapping each price to the estimated revenue for that price.</li>\n",
        "        <br>\n",
        "        <li>For example,</li>\n",
        "        <br>\n",
        "        <ul>\n",
        "            <li>if <i>prices=range(0,36,5)</i>,</li>\n",
        "            <br>\n",
        "            <li>and <i>willingness_to_pay=[32,10,15,18,25,40,50,43]</i>,</li>\n",
        "            <br>\n",
        "            <li>then the function should return an optimal price of <i>25</i> indicating <i>25</i> is the price that maximizes revenue, and a revenue dictionary of <i>{0:0, 5:40, 10:80, 15:105, 20:100, 25:125, 30:120, 35:105}</i>.</li>\n",
        "            <br>\n",
        "        </ul>\n",
        "    </ul>\n",
        "</font>"
      ]
    },
    {
      "cell_type": "code",
      "execution_count": null,
      "id": "ef7d0bf6",
      "metadata": {
        "id": "ef7d0bf6"
      },
      "outputs": [],
      "source": [
        "# Estimate the revenue for each given price and find the price with the highest revenue\n",
        "\n",
        "# 1. Iterate through the prices in the given price list\n",
        "\n",
        "# 2. Calculate the revenue for each given price: count the number of customer values greater than or equal to the price, \n",
        "## and multiply this count with the price. Store the answer in a dictionary\n",
        "\n",
        "# 3. Keep track of the best price found so far and another variable for the best revenue. \n",
        "## When looping through the prices, update the variables appropriately"
      ]
    },
    {
      "cell_type": "code",
      "execution_count": null,
      "id": "31f7373b",
      "metadata": {
        "scrolled": true,
        "id": "31f7373b"
      },
      "outputs": [],
      "source": [
        "def demand_revenue(prices, willingness_to_pay):\n",
        "\n",
        "  revenue = 0\n",
        "  demand = 1\n",
        "\n",
        "  for i in range(len(willingness_to_pay)):\n",
        "\n",
        "    if willingness_to_pay[i] >= prices:\n",
        "\n",
        "      revenue += (demand * prices)\n",
        "\n",
        "    else:\n",
        "\n",
        "      pass\n",
        "    \n",
        "  return revenue"
      ]
    },
    {
      "cell_type": "code",
      "source": [
        "demand_revenue(10,[32,10,15,18,25,40,50,43])"
      ],
      "metadata": {
        "colab": {
          "base_uri": "https://localhost:8080/"
        },
        "id": "Y6dhnjfdjL3V",
        "outputId": "05733010-f986-496e-e628-1804e8663b9b"
      },
      "id": "Y6dhnjfdjL3V",
      "execution_count": null,
      "outputs": [
        {
          "output_type": "execute_result",
          "data": {
            "text/plain": [
              "80"
            ]
          },
          "metadata": {},
          "execution_count": 83
        }
      ]
    },
    {
      "cell_type": "code",
      "source": [
        "def optimal_price(prices, willingness_to_pay):\n",
        "\n",
        "  max_revenue = 0\n",
        "  optimal_price = 0\n",
        "  revenue_dict = {}\n",
        "\n",
        "  for price in prices:\n",
        "\n",
        "    revenue_dict[price] = demand_revenue(price, willingness_to_pay)\n",
        "\n",
        "    if demand_revenue(price, willingness_to_pay) > max_revenue:\n",
        "\n",
        "      max_revenue = demand_revenue(price, willingness_to_pay)\n",
        "      optimal_price = price\n",
        "\n",
        "    \n",
        "  \n",
        "  return optimal_price, revenue_dict\n",
        "\n",
        "\n",
        "\n"
      ],
      "metadata": {
        "id": "SkP2wD7TdmNx"
      },
      "id": "SkP2wD7TdmNx",
      "execution_count": null,
      "outputs": []
    },
    {
      "cell_type": "code",
      "execution_count": null,
      "id": "22994388",
      "metadata": {
        "id": "22994388",
        "colab": {
          "base_uri": "https://localhost:8080/"
        },
        "outputId": "fda2b6dc-89f1-4fe2-80f6-c4617ef3412c"
      },
      "outputs": [
        {
          "output_type": "execute_result",
          "data": {
            "text/plain": [
              "(25, {0: 0, 5: 40, 10: 80, 15: 105, 20: 100, 25: 125, 30: 120, 35: 105})"
            ]
          },
          "metadata": {},
          "execution_count": 85
        }
      ],
      "source": [
        "#looks to be working\n",
        "optimal_price(range(0,36,5),[32,10,15,18,25,40,50,43])"
      ]
    },
    {
      "cell_type": "code",
      "execution_count": null,
      "id": "04618410",
      "metadata": {
        "id": "04618410"
      },
      "outputs": [],
      "source": [
        "#lets plot\n",
        "\n",
        "optimal_price, price_ranges = (25, {0: 0, 5: 40, 10: 80, 15: 105, 20: 100, 25: 125, 30: 120, 35: 105})"
      ]
    },
    {
      "cell_type": "code",
      "source": [
        "import matplotlib.pyplot as plt\n",
        "import numpy as np\n",
        "\n",
        "plt.figure(figsize=(16,8))\n",
        "plt.plot(np.array(list(price_ranges.keys())).astype(float), np.array(list(price_ranges.values())).astype(float),'ro-')\n",
        "plt.xlabel(\"Price\")\n",
        "plt.ylabel(\"Revenue\")\n",
        "plt.title(\"Optimization\")\n",
        "plt.show()"
      ],
      "metadata": {
        "colab": {
          "base_uri": "https://localhost:8080/",
          "height": 513
        },
        "id": "SzEJ3J8Xl9QQ",
        "outputId": "13c47e31-82b9-4e7c-c72c-d38cd8ad52b3"
      },
      "id": "SzEJ3J8Xl9QQ",
      "execution_count": null,
      "outputs": [
        {
          "output_type": "display_data",
          "data": {
            "text/plain": [
              "<Figure size 1152x576 with 1 Axes>"
            ],
            "image/png": "[encoded data removed]"
          },
          "metadata": {
            "needs_background": "light"
          }
        }
      ]
    },
    {
      "cell_type": "markdown",
      "id": "063952d7",
      "metadata": {
        "id": "063952d7"
      },
      "source": [
        "<h3>Optimal Stocking Level</h3>\n",
        "<br>\n",
        "<font size=\"+1\">\n",
        "    <ul>\n",
        "        <li><b>Assume:</b></li>\n",
        "        <br>\n",
        "        <ul>\n",
        "            <li>For a given price, the demand is equal to the number of customers with a willingness to pay greater than or equal to the price.</li>\n",
        "            <br>\n",
        "        </ul>\n",
        "        <li>Write a function called <i>optimal_stock_level()</i> with four input arguments.</li>\n",
        "        <br>\n",
        "        <ul>\n",
        "            <li><b>stock_levels</b>, which represents a list of possible stock levels to optimize over,</li>\n",
        "            <br>\n",
        "            <li><b>demand</b>, which is a list of given demand scenarios,</li>\n",
        "            <br>\n",
        "            <li><b>marginal_cost_of_low_stock</b>, which is a single number representing the unit cost of having too little inventory to meet demand (also called underage),</li>\n",
        "            <br>\n",
        "            <li><b>marginal_cost_of_high_stock</b>, which is a single number representing the unit cost of having too much inventory to meet demand (also called overage).</li>\n",
        "            <br>\n",
        "        </ul>\n",
        "        <li>For each possible stock level, the function should compute the average inventory cost, which is defined as the average over all demand scenarios of the total marginal cost of being under-stocked plus the total marginal cost of being over-stocked (i.e. the total underage plus overage).</li>\n",
        "        <br>\n",
        "        <li>For example, if the stock level is $10$, the demand scenarios are $[6, 12, 14]$, the marginal cost of being under-stocked is $9$, and the marginal cost of being over-stocked is $5$, then </li>\n",
        "        <br>\n",
        "        <ul>\n",
        "            <li>the inventory cost for demand being $6$ is $$\\underbrace{(\\text{stock level} - \\text{demand})}_{\\text{quantity over-stocked}} \\times (\\text{marginal cost of being over-stocked}) = (10 - 6) \\times 5 = 20, $$ because the stock level is $4$ units too high,</li>\n",
        "            <br>\n",
        "            <li>the inventory cost for demand being $12$ is $$\\underbrace{(\\text{demand} - \\text{stock level})}_{\\text{quantity under-stocked}} \\times (\\text{marginal cost of being under-stocked}) = (12 - 10) \\times 9 = 18, $$ because the stock level is $2$ units too low,</li>\n",
        "            <br>\n",
        "            <li>the inventory cost for demand being $14$ is $$\\underbrace{(\\text{demand} - \\text{stock level})}_{\\text{quantity under-stocked}} \\times (\\text{marginal cost of being under-stocked}) = (14 - 10) \\times 9 = 36, $$ because the stock level is $4$ units too low.</li>\n",
        "            <br>\n",
        "            <li style=\"color:red\">The average inventory cost for a stock level of $10$ is $$\\frac{20 + 18 + 36}{3} = \\frac{74}{3} \\approx 24.67,$$</li>\n",
        "            <br>\n",
        "        </ul>\n",
        "        <li>The function should return two objects,</li>\n",
        "        <br>\n",
        "        <ul>\n",
        "            <li><b>optimal_stock_level</b>, which represents a single number in <b>stock_levels</b> that achieves the minimum average inventory cost (if there is a tie, return the smallest stock level that yields the minimum average cost),</li>\n",
        "            <br>\n",
        "            <li><b>average_cost</b>, which is a dictionary that maps each stock level to the corresponding average inventory cost.</li>\n",
        "            <br>\n",
        "        </ul>\n",
        "        <li>For example,</li>\n",
        "        <br>\n",
        "        <ul>\n",
        "            <li>if <i>stock_levels=range(0,30,5)</i>,</li>\n",
        "            <br>\n",
        "            <li><i>demand=[10,18,5,20,16,30,15,3,5,10]</i>,</li>\n",
        "            <br>\n",
        "            <li><i>marginal_cost_of_low_stock=10</i>,</li>\n",
        "            <br>\n",
        "            <li><i>marginal_cost_of_high_stock=3</i>.</li>\n",
        "            <br>\n",
        "            <li>then the function should return an optimal stock level of <i>20</i> indicating <i>20</i> is the stock level that minimizes average cost, and an average cost dictionary of <i>{0: 132.0, 5: 84.6, 10: 54.1, 15: 36.6, 20: 33.4, 25: 41.9}</i>.</li>\n",
        "            <br>\n",
        "        </ul>\n",
        "    </ul>\n",
        "</font>"
      ]
    },
    {
      "cell_type": "code",
      "execution_count": null,
      "id": "2243d7ee",
      "metadata": {
        "id": "2243d7ee"
      },
      "outputs": [],
      "source": [
        "# Compute the average inventory cost for each stock level and find the stock level that minimizes the cost\n",
        "\n",
        "# 1. Loop through the stock levels\n",
        "\n",
        "# 2. For each stock level, loop through the demand scenarios and compute the inventory cost for each demand scenario,\n",
        "## (according to the formula given in the problem)\n",
        "\n",
        "# 3. Find the average  of the costs through the scenario of demands, \n",
        "## which will result in the average cost for a particular stock level\n",
        "\n",
        "# 4. Find the best stock level by keeping track of the best stock level and cost as you loop through the stock levels."
      ]
    },
    {
      "cell_type": "code",
      "execution_count": null,
      "id": "237ecad5",
      "metadata": {
        "id": "237ecad5"
      },
      "outputs": [],
      "source": [
        "def average_inventory_cost(stock_level, demand, marginal_cost_of_low_stock, marginal_cost_of_high_stock):\n",
        "\n",
        "  total_cost = 0\n",
        "\n",
        "  for single_demand in demand:\n",
        "    if single_demand > stock_level:\n",
        "      cost = marginal_cost_of_low_stock * (single_demand - stock_level)\n",
        "    else:\n",
        "      cost = marginal_cost_of_high_stock * (stock_level - single_demand)\n",
        "    \n",
        "    total_cost += cost\n",
        "\n",
        "  return total_cost/len(demand)"
      ]
    },
    {
      "cell_type": "code",
      "execution_count": null,
      "id": "48022cfb",
      "metadata": {
        "id": "48022cfb",
        "colab": {
          "base_uri": "https://localhost:8080/"
        },
        "outputId": "c3ba8625-88b8-48cb-ce70-be09aa25cef3"
      },
      "outputs": [
        {
          "output_type": "execute_result",
          "data": {
            "text/plain": [
              "24.666666666666668"
            ]
          },
          "metadata": {},
          "execution_count": 89
        }
      ],
      "source": [
        "average_inventory_cost(10, [6,12,14], 9, 5)"
      ]
    },
    {
      "cell_type": "code",
      "execution_count": null,
      "id": "85d53f67",
      "metadata": {
        "id": "85d53f67"
      },
      "outputs": [],
      "source": [
        "def optimal_stock_level(stock_levels, demand, marginal_cost_of_low_stock, marginal_cost_of_high_stock):\n",
        "  optimal_stock_level = 100000\n",
        "  minimized_inventory_cost = 100000\n",
        "  average_cost = {}\n",
        "\n",
        "  for level in stock_levels:\n",
        "    average_cost[level] = average_inventory_cost(level, demand, marginal_cost_of_low_stock, marginal_cost_of_high_stock)\n",
        "\n",
        "    if average_cost[level] < minimized_inventory_cost:\n",
        "      minimized_inventory_cost = average_cost[level]\n",
        "      optimal_stock_level = level\n",
        "\n",
        "  return optimal_stock_level, average_cost\n"
      ]
    },
    {
      "cell_type": "code",
      "execution_count": null,
      "id": "2ba23aad",
      "metadata": {
        "id": "2ba23aad",
        "colab": {
          "base_uri": "https://localhost:8080/"
        },
        "outputId": "b44101aa-2597-4a41-9a2e-99df01e24a9a"
      },
      "outputs": [
        {
          "output_type": "execute_result",
          "data": {
            "text/plain": [
              "(20, {0: 132.0, 5: 84.6, 10: 54.1, 15: 36.6, 20: 33.4, 25: 41.9})"
            ]
          },
          "metadata": {},
          "execution_count": 91
        }
      ],
      "source": [
        "optimal_stock_level(range(0,30,5),[10,18,5,20,16,30,15,3,5,10], 10, 3)"
      ]
    },
    {
      "cell_type": "code",
      "source": [
        "best_stock, stock_cost_dict = (20, {0: 132.0, 5: 84.6, 10: 54.1, 15: 36.6, 20: 33.4, 25: 41.9})"
      ],
      "metadata": {
        "id": "UsOfeP8Haosi"
      },
      "id": "UsOfeP8Haosi",
      "execution_count": null,
      "outputs": []
    },
    {
      "cell_type": "code",
      "source": [
        "import matplotlib.pyplot as plt\n",
        "import numpy as np\n",
        "\n",
        "plt.figure(figsize=(16,8))\n",
        "\n",
        "plt.plot(np.array(list(stock_cost_dict.keys())), np.array(list(stock_cost_dict.values())))\n",
        "plt.xlabel(\"Stock Prices\")\n",
        "plt.ylabel(\"Cost of Demand\")\n",
        "plt.show()"
      ],
      "metadata": {
        "colab": {
          "base_uri": "https://localhost:8080/",
          "height": 497
        },
        "id": "nK_wU1qOaadT",
        "outputId": "50385178-4f3e-4d0e-e3da-0be65eeb2074"
      },
      "id": "nK_wU1qOaadT",
      "execution_count": null,
      "outputs": [
        {
          "output_type": "display_data",
          "data": {
            "text/plain": [
              "<Figure size 1152x576 with 1 Axes>"
            ],
            "image/png": "[encoded data removed]"
          },
          "metadata": {
            "needs_background": "light"
          }
        }
      ]
    },
    {
      "cell_type": "code",
      "source": [],
      "metadata": {
        "id": "VUxOWGzXaaob"
      },
      "id": "VUxOWGzXaaob",
      "execution_count": null,
      "outputs": []
    },
    {
      "cell_type": "code",
      "source": [],
      "metadata": {
        "id": "P8BTRbUeaas4"
      },
      "id": "P8BTRbUeaas4",
      "execution_count": null,
      "outputs": []
    },
    {
      "cell_type": "code",
      "source": [],
      "metadata": {
        "id": "GQKCVh8Iaax9"
      },
      "id": "GQKCVh8Iaax9",
      "execution_count": null,
      "outputs": []
    },
    {
      "cell_type": "code",
      "source": [],
      "metadata": {
        "id": "hcjEzi-naa21"
      },
      "id": "hcjEzi-naa21",
      "execution_count": null,
      "outputs": []
    },
    {
      "cell_type": "code",
      "source": [],
      "metadata": {
        "id": "3u53FX39aa7V"
      },
      "id": "3u53FX39aa7V",
      "execution_count": null,
      "outputs": []
    }
  ],
  "metadata": {
    "hide_input": false,
    "kernelspec": {
      "display_name": "Python 3 (ipykernel)",
      "language": "python",
      "name": "python3"
    },
    "language_info": {
      "codemirror_mode": {
        "name": "ipython",
        "version": 3
      },
      "file_extension": ".py",
      "mimetype": "text/x-python",
      "name": "python",
      "nbconvert_exporter": "python",
      "pygments_lexer": "ipython3",
      "version": "3.8.8"
    },
    "toc": {
      "base_numbering": 1,
      "nav_menu": {},
      "number_sections": true,
      "sideBar": true,
      "skip_h1_title": false,
      "title_cell": "Table of Contents",
      "title_sidebar": "Contents",
      "toc_cell": true,
      "toc_position": {
        "height": "calc(100% - 180px)",
        "left": "10px",
        "top": "150px",
        "width": "316.306px"
      },
      "toc_section_display": true,
      "toc_window_display": true
    },
    "colab": {
      "provenance": []
    }
  },
  "nbformat": 4,
  "nbformat_minor": 5
}